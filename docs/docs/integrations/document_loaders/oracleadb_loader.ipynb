{
 "cells": [
  {
   "cell_type": "markdown",
   "source": [
    "# Oracle Autonomous Database\n",
    "\n",
    "Oracle Autonomous Database is a cloud database that uses machine learning to automate database tuning, security, backups, updates, and other routine management tasks traditionally performed by DBAs.\n",
    "\n",
    "This notebook covers how to load documents from Oracle Autonomous Database.\n",
    "\n",
    "## Prerequisites\n",
    "1. `python -m pip install oracledb --upgrae`:\n",
    "   https://python-oracledb.readthedocs.io/en/latest/user_guide/installation.html"
    "2. Database can be connected to by python-oracledb in its default 'Thin' mode. This is true of Oracle Autonomous Database:\n",
    "   https://python-oracledb.readthedocs.io/en/latest/user_guide/introduction.html#architecture\n",
   ],
   "metadata": {
    "collapsed": false
   }
  },
  {
   "cell_type": "markdown",
   "source": [
    "## Instructions"
   ],
   "metadata": {
    "collapsed": false
   }
  },
  {
   "cell_type": "code",
   "execution_count": null,
   "outputs": [],
   "source": [
    "python -m pip install oracledb --upgrade"
   ],
   "metadata": {
    "collapsed": false
   }
  },
  {
   "cell_type": "code",
   "execution_count": null,
   "outputs": [],
   "source": [
    "from langchain_community.document_loaders import OracleAutonomousDatabaseLoader\n",
    "from settings import s"
   ],
   "metadata": {
    "collapsed": false
   }
  },
  {
   "cell_type": "markdown",
   "source": [
    "With mutual TLS authentication (mTLS), wallet_location and wallet_password parameters are required to create the connection. See python-oracledb documentation at https://python-oracledb.readthedocs.io/en/latest/user_guide/connection_handling.html#connecting-to-oracle-cloud-autonomous-databases"
   ],
   "metadata": {
    "collapsed": false
   }
  },
  {
   "cell_type": "code",
   "execution_count": null,
   "outputs": [],
   "source": [
    "SQL_QUERY = \"select prod_id, time_id from sh.costs fetch first 5 rows only\"\n",
    "\n",
    "doc_loader_1 = OracleAutonomousDatabaseLoader(\n",
    "    query=SQL_QUERY,\n",
    "    user=s.USERNAME,\n",
    "    password=s.PASSWORD,\n",
    "    schema=s.SCHEMA,\n",
    "    config_dir=s.CONFIG_DIR,\n",
    "    wallet_location=s.WALLET_LOCATION,\n",
    "    wallet_password=s.PASSWORD,\n",
    "    tns_name=s.TNS_NAME,\n",
    ")\n",
    "doc_1 = doc_loader_1.load()\n",
    "\n",
    "doc_loader_2 = OracleAutonomousDatabaseLoader(\n",
    "    query=SQL_QUERY,\n",
    "    user=s.USERNAME,\n",
    "    password=s.PASSWORD,\n",
    "    schema=s.SCHEMA,\n",
    "    connection_string=s.CONNECTION_STRING,\n",
    "    wallet_location=s.WALLET_LOCATION,\n",
    "    wallet_password=s.PASSWORD,\n",
    ")\n",
    "doc_2 = doc_loader_2.load()"
   ],
   "metadata": {
    "collapsed": false
   }
  },
  {
   "cell_type": "markdown",
   "source": [
    "With 1-way TLS authentication, only the database credentials and connection string are required to establish a connection.\n",
    "The example below also shows passing bind variable values with the argument \"parameters\"."
   ],
   "metadata": {
    "collapsed": false
   }
  },
  {
   "cell_type": "code",
   "execution_count": null,
   "outputs": [],
   "source": [
    "SQL_QUERY = \"select channel_id, channel_desc from sh.channels where channel_desc = :1 fetch first 5 rows only\"\n",
    "\n",
    "doc_loader_3 = OracleAutonomousDatabaseLoader(\n",
    "    query=SQL_QUERY,\n",
    "    user=s.USERNAME,\n",
    "    password=s.PASSWORD,\n",
    "    schema=s.SCHEMA,\n",
    "    config_dir=s.CONFIG_DIR,\n",
    "    tns_name=s.TNS_NAME,\n",
    "    parameters=[\"Direct Sales\"],\n",
    ")\n",
    "doc_3 = doc_loader_3.load()\n",
    "\n",
    "doc_loader_4 = OracleAutonomousDatabaseLoader(\n",
    "    query=SQL_QUERY,\n",
    "    user=s.USERNAME,\n",
    "    password=s.PASSWORD,\n",
    "    schema=s.SCHEMA,\n",
    "    connection_string=s.CONNECTION_STRING,\n",
    "    parameters=[\"Direct Sales\"],\n",
    ")\n",
    "doc_4 = doc_loader_4.load()"
   ],
   "metadata": {
    "collapsed": false
   }
  }
 ],
 "metadata": {
  "kernelspec": {
   "display_name": "Python 3",
   "language": "python",
   "name": "python3"
  },
  "language_info": {
   "codemirror_mode": {
    "name": "ipython",
    "version": 2
   },
   "file_extension": ".py",
   "mimetype": "text/x-python",
   "name": "python",
   "nbconvert_exporter": "python",
   "pygments_lexer": "ipython2",
   "version": "2.7.6"
  }
 },
 "nbformat": 4,
 "nbformat_minor": 0
}
